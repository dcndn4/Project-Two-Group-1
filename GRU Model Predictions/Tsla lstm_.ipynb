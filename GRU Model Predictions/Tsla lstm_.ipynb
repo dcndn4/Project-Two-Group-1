{
 "cells": [
  {
   "cell_type": "raw",
   "id": "8c1b48f1-c177-40b3-b7ff-7015991c3e15",
   "metadata": {},
   "source": [
    "Algorithmic trading of Tesla Stock with Keras (using LSTM)\n",
    "We use a Long Short Time Memory recurrent neural network to develop a good trading strategy for Tesla stock: the opening price for each day we want our model to tell us if we are going to stay in the market for that day or not.\n",
    "\n",
    "We then compare this LSTM-trading-strategy to: (1) a buy and hold strategy (stay always in the market) and (2) a moving average strategy (buy when the current price is greater or equal to the moving average of past 50 days and sell otherwise)."
   ]
  },
  {
   "cell_type": "code",
   "execution_count": 1,
   "id": "f1523a7b-eb05-4673-af13-66957bddc9fd",
   "metadata": {},
   "outputs": [],
   "source": [
    "from __future__ import division\n",
    "import pandas as pd\n",
    "import numpy as np\n",
    "import datetime\n",
    "import time\n",
    "import matplotlib.pyplot as plt\n",
    "\n",
    "import keras\n",
    "from keras.models import Sequential\n",
    "from keras.layers import Dense,Dropout,BatchNormalization,Conv1D,Flatten,MaxPooling1D,LSTM\n",
    "from keras.callbacks import EarlyStopping,ModelCheckpoint,TensorBoard\n",
    "from keras.wrappers.scikit_learn import KerasRegressor\n",
    "from keras.models import load_model\n",
    "from sklearn.preprocessing import MinMaxScaler\n"
   ]
  },
  {
   "cell_type": "markdown",
   "id": "dfe1dee2-e84b-42af-953a-53c321ec6407",
   "metadata": {},
   "source": [
    "Part 1: Get the data\n",
    "We used Yahoo Finance to get the data for Tesal stock from 2017/1/6 to 2022/1/5. Our analysis is daily-based, and all the decisions are made using the open price on each day.\n",
    "\n",
    "For a reason which will be clarified by the following code, our analysis will start from 50 days after January 6, 2017 and end the day before January 5, 2022.\n",
    "\n",
    "We used Yahoo Finance and DataReader to obtain and load trading data for Tesla stock."
   ]
  },
  {
   "cell_type": "code",
   "execution_count": 2,
   "id": "4483b17c-86c2-41b0-9d9a-8f33c36d8d17",
   "metadata": {},
   "outputs": [],
   "source": [
    "# Identify stock data to grab by ticker\n",
    "ticker = 'TSLA'\n",
    "\n",
    "start_date=datetime.datetime(2017,1,6)\n",
    "end_date=datetime.datetime(2022,1,5)\n",
    "\n",
    "# df=pd.read_csv(\"TSLA-2.csv\")\n",
    "# df.index=pd.to_datetime(df[\"Date\"])\n",
    "# df=df.drop(\"Date\",axis=1)"
   ]
  },
  {
   "cell_type": "code",
   "execution_count": 3,
   "id": "7496d57f-c5dd-4fa4-a295-f6eed2cf603a",
   "metadata": {},
   "outputs": [
    {
     "ename": "ModuleNotFoundError",
     "evalue": "No module named 'pandas_datareader'",
     "output_type": "error",
     "traceback": [
      "\u001b[1;31m---------------------------------------------------------------------------\u001b[0m",
      "\u001b[1;31mModuleNotFoundError\u001b[0m                       Traceback (most recent call last)",
      "\u001b[1;32mC:\\Users\\CS_KNI~1\\AppData\\Local\\Temp/ipykernel_7668/2007129597.py\u001b[0m in \u001b[0;36m<module>\u001b[1;34m\u001b[0m\n\u001b[0;32m      1\u001b[0m \u001b[1;31m# For reading stock data from yahoo\u001b[0m\u001b[1;33m\u001b[0m\u001b[1;33m\u001b[0m\u001b[1;33m\u001b[0m\u001b[0m\n\u001b[1;32m----> 2\u001b[1;33m \u001b[1;32mfrom\u001b[0m \u001b[0mpandas_datareader\u001b[0m\u001b[1;33m.\u001b[0m\u001b[0mdata\u001b[0m \u001b[1;32mimport\u001b[0m \u001b[0mDataReader\u001b[0m\u001b[1;33m\u001b[0m\u001b[1;33m\u001b[0m\u001b[0m\n\u001b[0m\u001b[0;32m      3\u001b[0m \u001b[1;33m\u001b[0m\u001b[0m\n\u001b[0;32m      4\u001b[0m \u001b[0mdf\u001b[0m \u001b[1;33m=\u001b[0m \u001b[0mDataReader\u001b[0m\u001b[1;33m(\u001b[0m\u001b[0mticker\u001b[0m\u001b[1;33m,\u001b[0m \u001b[1;34m'yahoo'\u001b[0m\u001b[1;33m,\u001b[0m \u001b[0mstart_date\u001b[0m\u001b[1;33m,\u001b[0m \u001b[0mend_date\u001b[0m\u001b[1;33m)\u001b[0m\u001b[1;33m\u001b[0m\u001b[1;33m\u001b[0m\u001b[0m\n\u001b[0;32m      5\u001b[0m \u001b[1;33m\u001b[0m\u001b[0m\n",
      "\u001b[1;31mModuleNotFoundError\u001b[0m: No module named 'pandas_datareader'"
     ]
    }
   ],
   "source": [
    "# For reading stock data from yahoo\n",
    "from pandas_datareader.data import DataReader\n",
    "\n",
    "df = DataReader(ticker, 'yahoo', start_date, end_date)\n",
    "\n",
    "df.drop(\"Adj Close\",axis=1,inplace=True) # May have to adjut columns later"
   ]
  },
  {
   "cell_type": "markdown",
   "id": "0c920ee4-4623-461d-b5ef-726406486f7d",
   "metadata": {},
   "source": [
    "Now for each day we have the closing price for the day, the closing price of the previous day and the open price of the following day.\n",
    "\n",
    "The feature rapp is the quotient between the previous day's close and today's closing price. It will be used because it gives the variation (return) of the portfolio for the day."
   ]
  },
  {
   "cell_type": "code",
   "execution_count": null,
   "id": "3af2b9b3-5ee4-4182-899d-1b9cd745d17a",
   "metadata": {},
   "outputs": [],
   "source": [
    "df['Prev_Close']=df['Close'].shift(1)\n",
    "df.head()"
   ]
  },
  {
   "cell_type": "code",
   "execution_count": null,
   "id": "b5d2cc66-d756-44fb-acc9-f3aa7236985b",
   "metadata": {},
   "outputs": [],
   "source": [
    "df[\"rapp\"]=df[\"Close\"].divide(df['Close'].shift(1)) # Should be the close of the previous close"
   ]
  },
  {
   "cell_type": "code",
   "execution_count": null,
   "id": "c365f5c0-d3f8-4d25-8163-62f8676d6e0d",
   "metadata": {},
   "outputs": [],
   "source": [
    "df.head(10)"
   ]
  },
  {
   "cell_type": "code",
   "execution_count": null,
   "id": "541c1ead-4564-492b-89e6-3e52a9c3604c",
   "metadata": {},
   "outputs": [],
   "source": [
    "print(df.head())\n",
    "print(df.tail())"
   ]
  },
  {
   "cell_type": "code",
   "execution_count": null,
   "id": "f07d535a-60ed-460e-91b6-085d2c4bcb79",
   "metadata": {},
   "outputs": [],
   "source": [
    "df[\"mv_avg_short\"]= df[\"Close\"].rolling(window=5).mean()\n",
    "df[\"mv_avg_long\"]= df[\"Close\"].rolling(window=50).mean()"
   ]
  },
  {
   "cell_type": "code",
   "execution_count": null,
   "id": "38035c6a-d9d8-4cda-b643-eeb86e7be3f7",
   "metadata": {},
   "outputs": [],
   "source": [
    "df.head()"
   ]
  },
  {
   "cell_type": "code",
   "execution_count": null,
   "id": "c04d0d33-8f42-4537-9fcc-2da39aa68fc8",
   "metadata": {},
   "outputs": [],
   "source": [
    "print(df.loc[\"2020-12\",\"mv_avg_short\"])\n",
    "print(df.loc[\"2019-12\":\"2020-11\",\"Open\"])\n",
    "print(df.loc[\"2019-12\":\"2020-11\",\"Open\"].mean())"
   ]
  },
  {
   "cell_type": "markdown",
   "id": "e0a3a67d-3d9e-4c5c-837e-11fcf4fc7e83",
   "metadata": {},
   "source": [
    "We remove the first 50 days, since they do not have the 50-day moving average"
   ]
  },
  {
   "cell_type": "code",
   "execution_count": null,
   "id": "eb0506e0-37dc-46e9-b295-0ba18c481b22",
   "metadata": {},
   "outputs": [],
   "source": [
    "df=df.iloc[50:,:] # WARNING: DO IT JUST ONE TIME!\n",
    "print(df.index)"
   ]
  },
  {
   "cell_type": "markdown",
   "id": "e324f908-2131-437a-8f32-ca899fbca914",
   "metadata": {},
   "source": [
    "Finally, we can divide df in train and test set"
   ]
  },
  {
   "cell_type": "code",
   "execution_count": null,
   "id": "fc46a8f3-c589-4971-a8d5-a2afe6ad46c2",
   "metadata": {},
   "outputs": [],
   "source": [
    "mtest=300\n",
    "train=df.iloc[:-mtest,:] \n",
    "test=df.iloc[-mtest:,:] "
   ]
  },
  {
   "cell_type": "code",
   "execution_count": null,
   "id": "c59ea279-ace9-45d5-950d-f36b8b3656f9",
   "metadata": {},
   "outputs": [],
   "source": [
    "print(len(train))\n",
    "print(len(test))\n",
    "print(len(df))"
   ]
  },
  {
   "cell_type": "markdown",
   "id": "621649f9-ac07-48bc-9863-388ab4fe07ed",
   "metadata": {},
   "source": [
    "Part 2: Define functions to compute gross yield\n",
    "Notice that the gross yield can be computed very easily using the feature rapp. The following function explains how: the vector v selects which days we are going to stay in the market"
   ]
  },
  {
   "cell_type": "code",
   "execution_count": null,
   "id": "1c728b59-3fec-4ed9-8233-0a8f6fc474fa",
   "metadata": {},
   "outputs": [],
   "source": [
    "# This function returns the total percentage gross yield and the annual percentage gross yield\n",
    "\n",
    "def yield_gross(df,v):\n",
    "    prod=(v*df[\"rapp\"]+1-v).prod()\n",
    "    n_years=len(v)/252\n",
    "    return (prod-1)*100,((prod**(1/n_years))-1)*100"
   ]
  },
  {
   "cell_type": "markdown",
   "id": "b46cf31d-6ae1-40fe-8dba-68d789e3b9b6",
   "metadata": {},
   "source": [
    "Part 3: Define the LSTM model"
   ]
  },
  {
   "cell_type": "code",
   "execution_count": null,
   "id": "a3f27ec9-56cc-491b-8730-498c1d602883",
   "metadata": {},
   "outputs": [],
   "source": [
    "def create_window(data, window_size = 1):    \n",
    "    data_s = data.copy()\n",
    "    for i in range(window_size):\n",
    "        data = pd.concat([data, data_s.shift(-(i + 1))], axis = 1)\n",
    "        \n",
    "    data.dropna(axis=0, inplace=True)\n",
    "    return(data)"
   ]
  },
  {
   "cell_type": "code",
   "execution_count": null,
   "id": "1710b351-e6d6-4b17-bbc7-f6cb9df52235",
   "metadata": {},
   "outputs": [],
   "source": [
    "scaler=MinMaxScaler(feature_range=(0,1))\n",
    "dg=pd.DataFrame(scaler.fit_transform(df[[\"High\",\"Low\",\"Open\",\"Close\",\"Volume\",\\\n",
    "                                          \"mv_avg_short\",\"mv_avg_long\"]].values))\n",
    "dg0=dg[[0,1,2,3,4,5]]\n",
    "\n",
    "\n",
    "window=4\n",
    "dfw=create_window(dg0,window)\n",
    "\n",
    "X_dfw=np.reshape(dfw.values,(dfw.shape[0],window+1,6))\n",
    "\n",
    "y_dfw=np.array(dg[6][window:]) # The Fix"
   ]
  },
  {
   "cell_type": "code",
   "execution_count": null,
   "id": "3526edf8-00ed-420b-8dde-400a07df414b",
   "metadata": {},
   "outputs": [],
   "source": [
    "X_trainw=X_dfw[:-mtest-1,:,:]\n",
    "X_testw=X_dfw[-mtest-1:,:,:]\n",
    "y_trainw=y_dfw[:-mtest-1]\n",
    "y_testw=y_dfw[-mtest-1:]\n"
   ]
  },
  {
   "cell_type": "code",
   "execution_count": null,
   "id": "2da00d4d-0ffb-4bd6-afa0-9f78fbc4904f",
   "metadata": {},
   "outputs": [],
   "source": [
    "def model_lstm(window,features):\n",
    "    \n",
    "    model=Sequential()\n",
    "#     model.add(LSTM(600, input_shape = (window,features), return_sequences=True))\n",
    "#     model.add(Dropout(0.5))\n",
    "    model.add(LSTM(300, input_shape = (window,features), return_sequences=True))\n",
    "    model.add(Dropout(0.5))\n",
    "    model.add(LSTM(200, input_shape=(window,features), return_sequences=False))\n",
    "    model.add(Dropout(0.5))\n",
    "    model.add(Dense(100,kernel_initializer='uniform',activation='relu'))        \n",
    "    model.add(Dense(1,kernel_initializer='uniform',activation='relu'))\n",
    "    model.compile(loss='mse',optimizer='adam')\n",
    "    \n",
    "    \n",
    "    return model"
   ]
  },
  {
   "cell_type": "code",
   "execution_count": null,
   "id": "da01c0ee-c961-456e-8069-c48e6f9602de",
   "metadata": {},
   "outputs": [],
   "source": [
    "model=model_lstm(window+1,6)\n",
    "history=model.fit(X_trainw,y_trainw,epochs=100, batch_size=30, validation_data=(X_testw, y_testw), \\\n",
    "                  verbose=1, callbacks=[],shuffle=False) # Batch size should be no more than the square root of the # of training rows\n",
    "\n",
    "plt.plot(history.history['loss'])\n",
    "plt.plot(history.history['val_loss'])\n",
    "plt.title('model loss')\n",
    "plt.ylabel('loss')\n",
    "plt.xlabel('epoch')\n",
    "plt.legend(['train', 'test'], loc='upper right')\n",
    "plt.show()"
   ]
  },
  {
   "cell_type": "code",
   "execution_count": null,
   "id": "2b1222e3-3c0c-4261-b94d-490b72d9cc54",
   "metadata": {},
   "outputs": [],
   "source": [
    "y_pr=model.predict(X_trainw)"
   ]
  },
  {
   "cell_type": "code",
   "execution_count": null,
   "id": "c7c9f039-20b3-4014-af01-b61d3cc0aa9e",
   "metadata": {},
   "outputs": [],
   "source": [
    "plt.figure(figsize=(30,10))\n",
    "plt.plot(y_trainw, label=\"actual\")\n",
    "plt.plot(y_pr, label=\"prediction\")\n",
    "plt.legend(fontsize=20)\n",
    "plt.grid(axis=\"both\")\n",
    "plt.title(\"Actual open price and pedicted one on train set\",fontsize=25)\n",
    "plt.show()"
   ]
  },
  {
   "cell_type": "code",
   "execution_count": null,
   "id": "46a9c8ec-7e44-47ca-b105-859e098d98b4",
   "metadata": {},
   "outputs": [],
   "source": [
    "y_pred=model.predict(X_testw)"
   ]
  },
  {
   "cell_type": "code",
   "execution_count": null,
   "id": "cf2baed7-b8d6-4a3a-9e1d-badd7d085736",
   "metadata": {},
   "outputs": [],
   "source": [
    "v=np.diff(y_pred.reshape(y_pred.shape[0]),1)\n",
    "v_lstm=np.maximum(np.sign(v),0)"
   ]
  },
  {
   "cell_type": "code",
   "execution_count": null,
   "id": "de411ccf-1c46-4212-b0a3-87f98a83ce8b",
   "metadata": {},
   "outputs": [],
   "source": [
    "plt.figure(figsize=(30,10))\n",
    "plt.plot(y_testw, label=\"actual\")\n",
    "plt.plot(y_pred, label=\"prediction\")\n",
    "plt.plot(v_lstm,label=\"In and out\")\n",
    "plt.legend(fontsize=20)\n",
    "plt.grid(axis=\"both\")\n",
    "plt.title(\"Actual open price, predicted one and vector v_lstm\",fontsize=25)\n",
    "plt.show()"
   ]
  },
  {
   "cell_type": "markdown",
   "id": "daa0c0ca-f053-4533-a0a9-57329514300f",
   "metadata": {},
   "source": [
    "Part 4: Compare the LSTM method with other methods\n",
    "Now we can copare our LSTM-trading-strategy with the buy and hold strategy and the moving average strategy. In order to do so we compute the corresponding vectors v_bh and v_ma which select the days during which we are going to stay in the market."
   ]
  },
  {
   "cell_type": "code",
   "execution_count": null,
   "id": "b713ae43-8484-44f7-b429-40249a1d0c7a",
   "metadata": {},
   "outputs": [],
   "source": [
    "v_bh=np.ones(test.shape[0])\n",
    "v_ma=test[\"Open\"]>test[\"mv_avg_short\"]\n",
    "v_ma_l=test[\"Open\"]>test[\"mv_avg_long\"]"
   ]
  },
  {
   "cell_type": "code",
   "execution_count": null,
   "id": "2abb59dc-6176-4c7e-9861-a2c88b90c982",
   "metadata": {},
   "outputs": [],
   "source": [
    "def gross_portfolio(df,w):\n",
    "    portfolio=[ (w*df[\"rapp\"]+(1-w))[:i].prod() for i in range(len(w))]\n",
    "    return portfolio"
   ]
  },
  {
   "cell_type": "code",
   "execution_count": null,
   "id": "df0a621e-b119-441b-8107-6e48e327661d",
   "metadata": {},
   "outputs": [],
   "source": [
    "plt.figure(figsize=(30,10))\n",
    "plt.plot(gross_portfolio(test,v_bh),label=\"Portfolio Buy and Hold\")\n",
    "plt.plot(gross_portfolio(test,v_ma),label=\"Portfolio 5-Day Moving Average\")\n",
    "plt.plot(gross_portfolio(test,v_ma_l),label=\"Portfolio 50-Day Moving Average\")\n",
    "plt.plot(gross_portfolio(test,v_lstm),label=\"Portfolio LSTM\")\n",
    "plt.legend(fontsize=20)\n",
    "plt.grid(axis=\"both\")\n",
    "plt.title(\"Gross portfolios of three methods\", fontsize=25)\n",
    "plt.show()"
   ]
  },
  {
   "cell_type": "code",
   "execution_count": null,
   "id": "4b06a35f-4d76-4fa6-8941-5296aeedc415",
   "metadata": {},
   "outputs": [],
   "source": [
    "print(\"Test period of {:.2f} years, from {} to {} \\n\".format(len(v_bh)/365,str(test.loc[test.index[0],\"Open\"])[:10],\\\n",
    "      str(test.loc[test.index[-1],\"Close\"])[:10]))\n",
    "\n",
    "results0=pd.DataFrame({})\n",
    "results1=pd.DataFrame({})\n",
    "\n",
    "# results0[\"Method\"]=[\"Buy and hold\",\"Moving average\",\"LSTM\"]\n",
    "# results1[\"Method\"]=[\"Buy and hold\",\"Moving average\",\"LSTM\"]\n",
    "\n",
    "results0[\"Method\"]=[\"Buy and hold\",\"5-Day Moving average\",\"50-Day Moving average\",\"LSTM\"]\n",
    "results1[\"Method\"]=[\"Buy and hold\",\"5-Day Moving average\",\"50-Day Moving average\",\"LSTM\"]\n",
    "\n",
    "vs=[v_bh,v_ma,v_ma_l,v_lstm]\n",
    "results0[\"Total gross yield\"]=[str(round(yield_gross(test,vi)[0],2))+\" %\" for vi in vs]\n",
    "results1[\"Annual gross yield\"]=[str(round(yield_gross(test,vi)[1],2))+\" %\" for vi in vs]\n",
    "\n",
    "print(results0)\n",
    "print(\"\\n\")\n",
    "print(results1)"
   ]
  },
  {
   "cell_type": "code",
   "execution_count": null,
   "id": "b36d2b89-06d8-4b3e-8830-85ecdb5f2c4a",
   "metadata": {},
   "outputs": [],
   "source": []
  }
 ],
 "metadata": {
  "kernelspec": {
   "display_name": "Python 3 (ipykernel)",
   "language": "python",
   "name": "python3"
  },
  "language_info": {
   "codemirror_mode": {
    "name": "ipython",
    "version": 3
   },
   "file_extension": ".py",
   "mimetype": "text/x-python",
   "name": "python",
   "nbconvert_exporter": "python",
   "pygments_lexer": "ipython3",
   "version": "3.7.11"
  }
 },
 "nbformat": 4,
 "nbformat_minor": 5
}
